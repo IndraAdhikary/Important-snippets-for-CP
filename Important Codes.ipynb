{
 "cells": [
  {
   "cell_type": "code",
   "execution_count": null,
   "metadata": {},
   "outputs": [],
   "source": [
    "from collections import Counter\n",
    "import sys\n",
    " \n",
    "sys.setrecursionlimit(10 ** 6)\n",
    "int1 = lambda x: int(x) - 1\n",
    "p2D = lambda x: print(*x, sep=\"\\n\")\n",
    "def II(): return int(sys.stdin.readline())\n",
    "def MI(): return map(int, sys.stdin.readline().split())\n",
    "def LI(): return list(map(int, sys.stdin.readline().split()))\n",
    "def LLI(rows_number): return [LI() for _ in range(rows_number)]\n",
    "def SI(): return sys.stdin.readline()[:-1]\n",
    " \n",
    "def main():\n",
    "    for _ in range(II()):\n",
    "        n=II()\n",
    "        aa=LI()\n",
    "        ac=Counter(aa)\n",
    "        c1=len(ac)\n",
    "        c2=max(ac.values())\n",
    "        if c1==c2:print(c1-1)\n",
    "        else:print(min(c1,c2))\n",
    "\n",
    "main()"
   ]
  },
  {
   "cell_type": "code",
   "execution_count": null,
   "metadata": {},
   "outputs": [],
   "source": [
    "import sys\n",
    "input = sys.stdin.readline"
   ]
  },
  {
   "cell_type": "code",
   "execution_count": null,
   "metadata": {},
   "outputs": [],
   "source": [
    "import sys\n",
    "#input = sys.stdin.readline\n",
    "input = sys.stdin.buffer.readline"
   ]
  },
  {
   "cell_type": "code",
   "execution_count": null,
   "metadata": {},
   "outputs": [],
   "source": [
    "import sys\n",
    "input = sys.stdin.readline\n",
    "#input = sys.stdin.buffer.readline\n",
    "\n",
    "def print(*args, **kwargs):\n",
    "    \"\"\"Prints the values to a stream, or to sys.stdout by default.\"\"\"\n",
    "    sep, file = kwargs.pop(\"sep\", \" \"), kwargs.pop(\"file\", sys.stdout)\n",
    "    at_start = True\n",
    "    for x in args:\n",
    "        if not at_start:\n",
    "            file.write(sep)\n",
    "        file.write(str(x))\n",
    "        at_start = False\n",
    "    file.write(kwargs.pop(\"end\", \"\\n\"))\n",
    "    if kwargs.pop(\"flush\", False):\n",
    "        file.flush()\n",
    "\n",
    "#from sys import setrecursionlimit\n",
    "#setrecursionlimit(999999)\n",
    "#from sys import setrecursionlimit\n",
    "sys.setrecursionlimit(999999)"
   ]
  },
  {
   "cell_type": "code",
   "execution_count": null,
   "metadata": {},
   "outputs": [],
   "source": [
    "from sys import setrecursionlimit\n",
    "setrecursionlimit(999999)"
   ]
  },
  {
   "cell_type": "code",
   "execution_count": null,
   "metadata": {},
   "outputs": [],
   "source": [
    "import sys\n",
    " \n",
    "sys.setrecursionlimit(10**5)\n",
    "int1 = lambda x: int(x)-1\n",
    "p2D = lambda x: print(*x, sep=\"\\n\")\n",
    "def II(): return int(sys.stdin.buffer.readline())\n",
    "def MI(): return map(int, sys.stdin.buffer.readline().split())\n",
    "def LI(): return list(map(int, sys.stdin.buffer.readline().split()))\n",
    "def LLI(rows_number): return [LI() for _ in range(rows_number)]\n",
    "def BI(): return sys.stdin.buffer.readline().rstrip()\n",
    "def SI(): return sys.stdin.buffer.readline().rstrip().decode()\n",
    "inf = 10**16\n",
    "md = 10**9+7\n",
    "# md = 998244353"
   ]
  },
  {
   "cell_type": "code",
   "execution_count": null,
   "metadata": {},
   "outputs": [],
   "source": [
    "###### CPPPPPPPPPPPPPPPPPPPPPPPPPPP\n",
    "\n",
    "#include<bits/stdc++.h>\n",
    "using namespace std;\n",
    "typedef  long long int ll;\n",
    "#define fastttt std::ios::sync_with_stdio(false);std::cin.tie(NULL);std::cout.tie(NULL);\n",
    "\n",
    "class solver{\n",
    "\tpublic:\n",
    "\t\t\n",
    "\tvoid solve()\n",
    "\t{\n",
    "\t\tll n,k;cin>>n>>k;\n",
    "\t\t\n",
    "\t\tll g = k*(n/k);\n",
    "\t\tll m=0;\n",
    "\t\tll y;\n",
    "\t\tll x;\n",
    "\t\twhile(g>0){\n",
    "\t\t\ty = sqrt((n*n)-(g*g));\n",
    "\t\t\tx = y/k;\n",
    "\t\t\tm = max( m , x+(g/k));\n",
    "\t\t\tg-=k;\n",
    "\t\t}\n",
    "\t\tif(m%2==0)cout<<\"Utkarsh\\n\";else cout<<\"Ashish\\n\";\n",
    "\t}\n",
    "\t\n",
    "};\n",
    " \n",
    "int main(){\n",
    "\t//fastttt\n",
    "\t//\tcout<<fixed<<setprecision(10);\n",
    "\t\n",
    "\tint test=1,c=1;\n",
    "\tcin>>test;\n",
    "\twhile(test--){\n",
    "\t\t//cout<<\"Case #\"<<c<<\": \";c++;\n",
    "\t\tsolver o;\n",
    "\t\to.solve();\n",
    "\t}\n",
    "}"
   ]
  },
  {
   "cell_type": "code",
   "execution_count": null,
   "metadata": {},
   "outputs": [],
   "source": [
    "import sys\n",
    "fl = sys.stdout.flush\n",
    "def get(x,y):\n",
    "    print('?',x,y)\n",
    "    #fl()\n",
    "    a = int(input())\n",
    "    return a\n",
    "\n",
    "def outl(x):\n",
    "    print('!',*x)\n",
    "    #fl()\n",
    "\n",
    "def out(x):\n",
    "    print('!',x)\n",
    "    #fl()"
   ]
  },
  {
   "cell_type": "code",
   "execution_count": null,
   "metadata": {},
   "outputs": [],
   "source": [
    "import sys\n",
    "fl = sys.stdout.flush\n",
    "def get(x):\n",
    "    d={'yes':True,'no':False}\n",
    "    print(x)\n",
    "    #fl()\n",
    "    a = d[input()]\n",
    "    return a\n",
    "\n",
    "\n",
    "def out(c):\n",
    "    if c<=1:\n",
    "        print('yes')\n",
    "    else:\n",
    "        print('no')\n",
    "    #fl()"
   ]
  },
  {
   "cell_type": "code",
   "execution_count": null,
   "metadata": {},
   "outputs": [],
   "source": [
    "for _ in range(int(input())):\n",
    "    a,b,c,r = map(int,input().split())\n",
    "    a,b=min(a,b),max(a,b)\n",
    "    p,q=c-r,c+r\n",
    "    ans=0\n",
    "    if p<=a:\n",
    "        ans=b-max(a,q)\n",
    "    elif b>=p>a:\n",
    "        ans=p-a\n",
    "        ans+=b-min(b,q)\n",
    "    elif p>b:\n",
    "        ans=b-a\n",
    "    print(max(0,ans))"
   ]
  },
  {
   "cell_type": "code",
   "execution_count": 3,
   "metadata": {},
   "outputs": [
    {
     "name": "stdout",
     "output_type": "stream",
     "text": [
      "[(1, 'a'), (2, 'c'), (10, 'b')]\n"
     ]
    }
   ],
   "source": [
    "d = {1:'a',10:'b',2:'c'}\n",
    "d = sorted(d.items())\n",
    "print(d)"
   ]
  },
  {
   "cell_type": "code",
   "execution_count": null,
   "metadata": {},
   "outputs": [],
   "source": [
    "sort_orders = sorted(orders.items(), key=lambda x: x[1], reverse=True)"
   ]
  },
  {
   "cell_type": "code",
   "execution_count": null,
   "metadata": {},
   "outputs": [],
   "source": [
    "l.sort(key = lambda x: x[1], reverse = True) # l = [tuple(1,2)]"
   ]
  },
  {
   "cell_type": "code",
   "execution_count": null,
   "metadata": {},
   "outputs": [],
   "source": [
    "len(test_list) - 1 - test_list[::-1].index('e') "
   ]
  },
  {
   "cell_type": "code",
   "execution_count": null,
   "metadata": {},
   "outputs": [],
   "source": [
    "for _ in range(int(input())):\n",
    "    n = int(input())\n",
    "    s = input()\n",
    "    x = n - len(s.lstrip('0'))\n",
    "    y = n - len(s.rstrip('1'))\n",
    "    if x+y==n:\n",
    "        print(s)\n",
    "    else:\n",
    "        print('0'*x+'0'+'1'*y)"
   ]
  },
  {
   "cell_type": "code",
   "execution_count": null,
   "metadata": {},
   "outputs": [],
   "source": [
    "for f in range(int(input())):\n",
    "    n=int(input())\n",
    "    a=list(map(int,input().split()))\n",
    "    a.sort()\n",
    "    b=[0]*n\n",
    "    i=n-1\n",
    "    big=0\n",
    "    foo=0\n",
    "    while i>=0:\n",
    "        if big==1:\n",
    "            b[i]=a[-foo]\n",
    "            big=0\n",
    "        else:\n",
    "            b[i]=a[foo]\n",
    "            foo+=1\n",
    "            big=1\n",
    "        i-=1\n",
    "    print(*b)"
   ]
  },
  {
   "cell_type": "code",
   "execution_count": 3,
   "metadata": {},
   "outputs": [
    {
     "name": "stdout",
     "output_type": "stream",
     "text": [
      "deque([2, 3, 4, 1])\n"
     ]
    }
   ],
   "source": [
    "from collections import deque\n",
    "a = deque([1, 2, 3, 4])\n",
    "a.rotate(-1)\n",
    "print(a)"
   ]
  },
  {
   "cell_type": "code",
   "execution_count": null,
   "metadata": {},
   "outputs": [],
   "source": [
    "str.rjust(50, '0')"
   ]
  },
  {
   "cell_type": "code",
   "execution_count": null,
   "metadata": {},
   "outputs": [],
   "source": [
    ">>> a = [0, 2, 3, 2]\n",
    ">>> a.remove(2)\n",
    ">>> a\n",
    "[0, 3, 2]\n",
    "del removes the item at a specific index:\n",
    "\n",
    ">>> a = [9, 8, 7, 6]\n",
    ">>> del a[1]\n",
    ">>> a\n",
    "[9, 7, 6]\n",
    "and pop removes the item at a specific index and returns it.\n",
    "\n",
    ">>> a = [4, 3, 5]\n",
    ">>> a.pop(1)\n",
    "3\n",
    ">>> a\n",
    "[4, 5]"
   ]
  },
  {
   "cell_type": "code",
   "execution_count": null,
   "metadata": {},
   "outputs": [],
   "source": [
    "65 - 91 == A to Z\n",
    "97 - 123 == a to z"
   ]
  },
  {
   "cell_type": "code",
   "execution_count": null,
   "metadata": {},
   "outputs": [],
   "source": [
    "def nCr(com_n, com_r):\n",
    "    if com_n < com_r: return 0\n",
    "    return fac[com_n]*ifac[com_r]%md*ifac[com_n-com_r]%md\n",
    "\n",
    "md = 10**9+7\n",
    "\n",
    "\n",
    "n_max = 200005\n",
    "fac = [1]\n",
    "for i in range(1, n_max+1): fac.append(fac[-1]*i%md)\n",
    "ifac = [1]*(n_max+1)\n",
    "ifac[n_max] = pow(fac[n_max], md-2, md)\n",
    "for i in range(n_max-1, 1, -1): ifac[i] = ifac[i+1]*(i+1)%md"
   ]
  },
  {
   "cell_type": "markdown",
   "metadata": {},
   "source": [
    "# ADD Recursion Limit"
   ]
  },
  {
   "cell_type": "code",
   "execution_count": null,
   "metadata": {},
   "outputs": [],
   "source": [
    "import threading,sys\n",
    "sys.setrecursionlimit(1000000)\n",
    "threading.stack_size(1024000)\n",
    "thread = threading.Thread(target=main)\n",
    "thread.start()"
   ]
  },
  {
   "cell_type": "markdown",
   "metadata": {},
   "source": [
    "## segment of strings"
   ]
  },
  {
   "cell_type": "code",
   "execution_count": null,
   "metadata": {},
   "outputs": [],
   "source": [
    "for _ in range(int(input())):\n",
    "    s = input()\n",
    "    r=''\n",
    "    p = s[0]\n",
    "    c=1\n",
    "    for i in range(1,len(s)):\n",
    "        if s[i]==p:\n",
    "            c+=1\n",
    "        else:\n",
    "            if c%2==1:\n",
    "                r+=p\n",
    "            c=1\n",
    "        p = s[i]\n",
    "    if c%2==1:\n",
    "        r+=p\n",
    "    print(''.join(sorted(r))"
   ]
  },
  {
   "cell_type": "markdown",
   "metadata": {},
   "source": [
    "## Mini graph traversal in recursion problem"
   ]
  },
  {
   "cell_type": "code",
   "execution_count": null,
   "metadata": {},
   "outputs": [],
   "source": [
    "def gt(x,l,y):\n",
    "    if l[x-1]==y:\n",
    "        return 1\n",
    "    else:\n",
    "        return 1 + gt(l[x-1],l,y)\n",
    "\n",
    "for _ in range(int(input())):\n",
    "    n = int(input())\n",
    "    l = list(map(int,input().split()))\n",
    "    res=[]\n",
    "    for i in range(1,n+1):\n",
    "        res.append(gt(i,l,i))\n",
    "    print(*res)"
   ]
  },
  {
   "cell_type": "markdown",
   "metadata": {},
   "source": [
    "## Count connected nodes by grouping DFS traverssal without graph News Distribution"
   ]
  },
  {
   "cell_type": "code",
   "execution_count": null,
   "metadata": {},
   "outputs": [],
   "source": [
    "def gt(x):\n",
    "    while x!=d[x]:\n",
    "        d[x]=d[d[x]]\n",
    "        x=d[x]\n",
    "    return x\n",
    "\n",
    "n,m = map(int,input().split())\n",
    "\n",
    "d = [i for i in range(n)]\n",
    "\n",
    "l = [0]*n\n",
    "\n",
    "for _ in range(m):\n",
    "    cl = list(map(int,input().split()))\n",
    "    for i in cl[2:]:\n",
    "        d[gt(i-1)]=gt(cl[1]-1)\n",
    "        \n",
    "for i in range(n):\n",
    "    l[gt(i)]+=1\n",
    "r = [0]*n\n",
    "\n",
    "for i in range(n):\n",
    "    r[i]=l[gt(i)]\n",
    "print(*r)"
   ]
  },
  {
   "cell_type": "markdown",
   "metadata": {},
   "source": [
    "## Binary search"
   ]
  },
  {
   "cell_type": "code",
   "execution_count": null,
   "metadata": {},
   "outputs": [],
   "source": [
    "def bs(arr,l,h,x):\n",
    "    \n",
    "    if h>=l:\n",
    "        \n",
    "        m = (h+l)//2\n",
    "        \n",
    "        if arr[m] == x:\n",
    "            return m\n",
    "        \n",
    "        elif arr[m]>x:\n",
    "            return bs(arr,l,m,x)\n",
    "        \n",
    "        else:\n",
    "            return bs(arr,mid+1,h,x)\n",
    "        \n",
    "    else:\n",
    "        return -1\n",
    "\n",
    "arr = []\n",
    "x = -1\n",
    "\n",
    "res = bs(arr,0,len(arr)-1,x)\n",
    "\n",
    "if res==-1:\n",
    "    print(-1)\n",
    "else:\n",
    "    print(res)"
   ]
  },
  {
   "cell_type": "markdown",
   "metadata": {},
   "source": [
    "## Maximum till now in array to ----->> possible permutation"
   ]
  },
  {
   "cell_type": "code",
   "execution_count": null,
   "metadata": {},
   "outputs": [],
   "source": [
    "for _ in range(int(input())):\n",
    "    n = int(input())\n",
    "    l = list(map(int,input().split()))\n",
    "    res = [l[0]]\n",
    "    m = 1\n",
    "    d = {l[0]:1}\n",
    "    xf=0\n",
    "    for i in range(1,n):\n",
    "        if l[i]!=l[i-1]:\n",
    "            res.append(l[i])\n",
    "            d[l[i]]=1\n",
    "        else:\n",
    "            while m in d:\n",
    "                m+=1\n",
    "            if m<l[i]:\n",
    "                res.append(m)\n",
    "                d[m]=1\n",
    "            else:\n",
    "                print(-1)\n",
    "                break\n",
    "    else:\n",
    "        print(*res)"
   ]
  },
  {
   "cell_type": "markdown",
   "metadata": {},
   "source": [
    "## shortest length of maximum occurrence"
   ]
  },
  {
   "cell_type": "code",
   "execution_count": null,
   "metadata": {},
   "outputs": [],
   "source": [
    "from collections import defaultdict\n",
    "for _ in range(int(input())):\n",
    "    n = int(input())\n",
    "    l = list(map(int,input().split()))\n",
    "    d = defaultdict(int)\n",
    "    m = 10**10\n",
    "    for i,j in enumerate(l):\n",
    "        if d[j]==0:\n",
    "            d[j]=i\n",
    "        else:\n",
    "            m = min(m,i-d[j]+1)\n",
    "            d[j]=i\n",
    "    if m==10**10:\n",
    "        print(-1)\n",
    "    else:\n",
    "        print(m)"
   ]
  },
  {
   "cell_type": "markdown",
   "metadata": {},
   "source": [
    "## Generate primes in a range"
   ]
  },
  {
   "cell_type": "code",
   "execution_count": 1,
   "metadata": {},
   "outputs": [
    {
     "name": "stdout",
     "output_type": "stream",
     "text": [
      "[2, 3, 5, 7]\n"
     ]
    }
   ],
   "source": [
    "def get_primes(n): \n",
    "    l=[]\n",
    "    pr = [True for i in range(n+1)] \n",
    "    j = 2\n",
    "    while (j * j <= n): \n",
    "        if (pr[j] == True): \n",
    "            for i in range(j * j, n+1, j): \n",
    "                pr[i] = False\n",
    "        j += 1\n",
    "    for j in range(2, n): \n",
    "        if pr[j]: \n",
    "            l.append(j)\n",
    "    return l\n",
    "\n",
    "print(get_primes(9))"
   ]
  },
  {
   "cell_type": "markdown",
   "metadata": {},
   "source": [
    "## three piles and :: chose sets of three :: two from these must be included"
   ]
  },
  {
   "cell_type": "code",
   "execution_count": null,
   "metadata": {},
   "outputs": [],
   "source": [
    "for _ in range(int(input())):\n",
    "    c,m,x = map(int,input().split())\n",
    "    print(min(c,m,(c+m+x)//3))"
   ]
  },
  {
   "cell_type": "markdown",
   "metadata": {},
   "source": [
    "## LCM of array"
   ]
  },
  {
   "cell_type": "code",
   "execution_count": null,
   "metadata": {},
   "outputs": [],
   "source": [
    "def lcml(l,n):\n",
    "    cm = l[0]\n",
    "    for i in range(n):\n",
    "        cm = cm*l[i]//gcd(cm,l[i])\n",
    "    return cm"
   ]
  },
  {
   "cell_type": "markdown",
   "metadata": {},
   "source": [
    "## GCD of array"
   ]
  },
  {
   "cell_type": "code",
   "execution_count": null,
   "metadata": {},
   "outputs": [],
   "source": [
    "from math import gcd\n",
    "def gcdl(l,n):\n",
    "    if n==1:\n",
    "        return l[0]\n",
    "    g = gcd(l[0],l[1])\n",
    "    \n",
    "    for i in range(2,n):\n",
    "        g = gcd(g,l[i])\n",
    "    return g"
   ]
  },
  {
   "cell_type": "markdown",
   "metadata": {},
   "source": [
    "## Accumulate"
   ]
  },
  {
   "cell_type": "code",
   "execution_count": 2,
   "metadata": {},
   "outputs": [
    {
     "name": "stdout",
     "output_type": "stream",
     "text": [
      "[1, 3, 6, 10, 15]\n",
      "['a', 'abc', 'abcd', 'abcde']\n"
     ]
    }
   ],
   "source": [
    "from itertools import accumulate\n",
    "print(list(accumulate([1,2,3,4,5])))\n",
    "print(list(accumulate(['a','bc','d','e'])))"
   ]
  },
  {
   "cell_type": "markdown",
   "metadata": {},
   "source": [
    "## Sum of subarray equals  elements in array : count"
   ]
  },
  {
   "cell_type": "code",
   "execution_count": null,
   "metadata": {},
   "outputs": [],
   "source": [
    "from itertools import accumulate as acc\n",
    "from collections import Counter\n",
    "for _ in range(int(input())):\n",
    "    n = int(input())\n",
    "    l = list(map(int,input().split()))\n",
    "    t = [0]+[i for i in acc(l)]\n",
    "    cc = Counter(l)\n",
    "    r=0\n",
    "    for i in range(n):\n",
    "        for j in range(i+2,n+1):\n",
    "            s = t[j]-t[i]\n",
    "            if s>n:\n",
    "                break\n",
    "            r+=cc[s]\n",
    "            del cc[s]\n",
    "    print(r)"
   ]
  },
  {
   "cell_type": "markdown",
   "metadata": {},
   "source": [
    "## Tunnel fine problem"
   ]
  },
  {
   "cell_type": "code",
   "execution_count": null,
   "metadata": {},
   "outputs": [],
   "source": [
    "n = int(input())\n",
    "a = list(map(int,input().split()))\n",
    "b = list(map(int,input().split()))\n",
    "d = {}\n",
    "for i in range(n):\n",
    "    d[b[i]] = i+1\n",
    "x,r=0,n\n",
    "for i in range(n):\n",
    "    if d[a[i]]>x:\n",
    "        x=d[a[i]]\n",
    "        r-=1\n",
    "print(r)"
   ]
  },
  {
   "cell_type": "markdown",
   "metadata": {},
   "source": [
    "## HeapQ - Playlist"
   ]
  },
  {
   "cell_type": "code",
   "execution_count": null,
   "metadata": {},
   "outputs": [],
   "source": [
    "import heapq as hq\n",
    "n,k = map(int,input().split())\n",
    "l=[]\n",
    "for _ in range(n):\n",
    "    a,b = map(int,input().split())\n",
    "    l.append((a,b))\n",
    "l.sort(key=lambda x: x[1],reverse = True)\n",
    "m,x=0,0\n",
    "q = []\n",
    "for i in range(k):\n",
    "    x+=l[i][0]\n",
    "    hq.heappush(q,l[i][0])\n",
    "    m = max(m,x*l[i][1])\n",
    "    \n",
    "for i in range(k,n):\n",
    "    x+=l[i][0]\n",
    "    hq.heappush(q,l[i][0])\n",
    "    x-= hq.heappop(q)\n",
    "    m = max(m,x*l[i][1])\n",
    "    \n",
    "print(m)"
   ]
  },
  {
   "cell_type": "code",
   "execution_count": null,
   "metadata": {},
   "outputs": [],
   "source": [
    "# Stone Game\n",
    "\n",
    "import heapq as hq\n",
    "for _ in range(int(input())):\n",
    "    n = int(input())\n",
    "    l= list(map(lambda x: -int(x),input().split()))\n",
    "    if n==1:\n",
    "        print('T')\n",
    "        continue\n",
    "    f=0\n",
    "    hq.heapify(l)\n",
    "    while True:\n",
    "        x = hq.heappop(l)\n",
    "        if x>=0:\n",
    "            break\n",
    "        else:\n",
    "            f=1\n",
    "            x+=1\n",
    "            y = hq.heappop(l)\n",
    "            if y>=0:\n",
    "                break\n",
    "            else:\n",
    "                f=0\n",
    "                y+=1\n",
    "                hq.heappush(l,x)\n",
    "                hq.heappush(l,y)\n",
    "    if f==0:\n",
    "        print('HL')\n",
    "    else:\n",
    "        print('T')"
   ]
  },
  {
   "cell_type": "markdown",
   "metadata": {},
   "source": [
    "# Bomberman game grid"
   ]
  },
  {
   "cell_type": "code",
   "execution_count": 1,
   "metadata": {},
   "outputs": [
    {
     "name": "stdout",
     "output_type": "stream",
     "text": [
      "4 4 3\n",
      "1 2\n",
      "1 3\n",
      "3 4\n",
      "3\n"
     ]
    }
   ],
   "source": [
    "from collections import defaultdict\n",
    "h,w,m = map(int,input().split())\n",
    "dh = defaultdict(int)\n",
    "dw = defaultdict(int)\n",
    "l=defaultdict(tuple)\n",
    "for _ in range(m):\n",
    "    x,y = map(int,input().split())\n",
    "    dh[x]+=1\n",
    "    dw[y]+=1\n",
    "    l[(x,y)]=1\n",
    "m = 0\n",
    "for i in range(1,h+1):\n",
    "    if dh[i]>m:\n",
    "        m = dh[i]\n",
    "        hi=i\n",
    "c=m\n",
    "m = 0\n",
    "for i in range(1,w+1):\n",
    "    d = dw[i]\n",
    "    if l[(hi,i)]==1:\n",
    "        d-=1\n",
    "    m = max(m,d)\n",
    "c+=m\n",
    "m = 0\n",
    "wi=0\n",
    "for i in range(1,w+1):\n",
    "    if dw[i]>m:\n",
    "        m = dw[i]\n",
    "        wi=i\n",
    "c2=m\n",
    "m = 0\n",
    "for i in range(1,h+1):\n",
    "    d = dh[i]\n",
    "    if l[(i,wi)]==1:\n",
    "        d-=1\n",
    "    m = max(m,d)\n",
    "c2+=m\n",
    "print(max(c,c2))"
   ]
  },
  {
   "cell_type": "markdown",
   "metadata": {},
   "source": [
    "## Sub-Mex Tree Codechef"
   ]
  },
  {
   "cell_type": "code",
   "execution_count": null,
   "metadata": {},
   "outputs": [],
   "source": [
    "from sys import setrecursionlimit\n",
    "setrecursionlimit(999999)\n",
    "\n",
    "from collections import defaultdict as dd\n",
    "from collections import deque as dq\n",
    "\n",
    "def dfs_rec(g,root):\n",
    "    if len(g[1])==0:\n",
    "        return [1,1]\n",
    "    \n",
    "    sz,mx=1,-1\n",
    "    \n",
    "    for i in range(len(g[root])):\n",
    "        temp = dfs_rec(g,g[root][i])\n",
    "        sz+=temp[0]\n",
    "        mx = max(mx,temp[1])\n",
    "    return [sz,mx+sz]\n",
    "\n",
    "for _ in range(int(input())):\n",
    "    \n",
    "    n = int(input())\n",
    "    l = list(map(int,input().split()))\n",
    "    g = dd(list)\n",
    "    \n",
    "    for i in range(n-1):\n",
    "        g[l[i]].append(i+2)\n",
    "    \n",
    "    r = dfs_rec(g,1)[1]\n",
    "    #print(g)\n",
    "    print(r+1)"
   ]
  }
 ],
 "metadata": {
  "kernelspec": {
   "display_name": "Python 3",
   "language": "python",
   "name": "python3"
  },
  "language_info": {
   "codemirror_mode": {
    "name": "ipython",
    "version": 3
   },
   "file_extension": ".py",
   "mimetype": "text/x-python",
   "name": "python",
   "nbconvert_exporter": "python",
   "pygments_lexer": "ipython3",
   "version": "3.7.6"
  }
 },
 "nbformat": 4,
 "nbformat_minor": 4
}
